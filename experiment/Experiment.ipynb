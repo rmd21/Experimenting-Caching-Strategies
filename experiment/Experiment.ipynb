{
 "cells": [
  {
   "cell_type": "markdown",
   "metadata": {},
   "source": [
    "# Experiment\n",
    "\n",
    "An experiment that compares the performance of various cache eviction algorithms.\n"
   ]
  },
  {
   "cell_type": "code",
   "execution_count": 355,
   "metadata": {},
   "outputs": [],
   "source": [
    "from memory import Memory\n",
    "from cache import CyclicCache, LRUCache, RanCache\n",
    "import utilities\n",
    "import random\n",
    "import pandas as pd\n",
    "import matplotlib.pyplot as plt\n",
    "import numpy as np"
   ]
  },
  {
   "cell_type": "markdown",
   "metadata": {},
   "source": [
    "# My Overview\n",
    "\n",
    "### Definition\n",
    "<b>In computing, <u>Cache</u> is a hardware or software component that stores data so that future requests for that data can be served faster. </b>\n",
    "\n",
    "### Problems With Cache\n",
    "\n",
    "<ul>\n",
    "    <li><b>Cache gets full</b>: In order to make caches relatively faster at retrieving data, there is a substantial tradeoff with storage and hence the cache gets full and requires a policy for replacing data stored in cache.</li>\n",
    "    \n",
    "<li><b>Cache goes stale</b>: Cache needs to know when to flush data out as eventually the data provided to us might change overtime and thus requires to be flushed out. </li>\n",
    "\n",
    "</ul>\n",
    "    \n",
    "Hence, there is a need for various <b>Cache Eviction Strategies</b> in order to guide us what data is to be removed when we need to write in new data to the cache.\n",
    "\n",
    "\n",
    "### Cache Eviction Strategies used by me in this Lab:\n",
    "\n",
    "<ul>\n",
    "    <li><b>Random</b>: Replaces any one randomly chosen data from the cache.</li>\n",
    "    <li><b>Least Recently Used(LRU)</b>: Keeps track of an entry that hasn't been used for the longest time and replaces it.</li>\n",
    "    <li><b>Cyclic</b>: Replaces the oldest entry of the cache.</li></ul>"
   ]
  },
  {
   "cell_type": "markdown",
   "metadata": {},
   "source": [
    "# My Objective\n",
    "\n",
    "<ul>\n",
    "    <li>Compare between the performances of <b>LRU</b>, <b>Cyclic</b> and <b>Random</b> Cache Eviction algorithms.</li>\n",
    "    <li>To provide test cases with varying cache size (Test 1 - Test 3).</li>\n",
    "    <li>To provide test cases with varying data size and thus experimenting with <b>locality</b> (Test 4 - Test 6).</li>\n",
    "    <li>To provide separate test cases experimenting with <b>Spatial Locality</b> (Test 8 & Test 9).</li>\n",
    "    <li>To provide separate test cases experimenting with <b>Temporal Locality</b> (Test 10 & Test 11).</li>\n",
    "    <li>To provide a comprehensive analysis for the results observed in each case.</li>\n",
    "    <li>To visualise test cases for deeper understanding.</li></ul>\n",
    "    \n",
    "<hr><br>"
   ]
  },
  {
   "cell_type": "markdown",
   "metadata": {},
   "source": [
    "## Memory Set Up"
   ]
  },
  {
   "cell_type": "code",
   "execution_count": 251,
   "metadata": {},
   "outputs": [],
   "source": [
    "# Create some memory of size 10,000,000.\n",
    "data = utilities.sample_data(size=10000000)"
   ]
  },
  {
   "cell_type": "markdown",
   "metadata": {},
   "source": [
    "## Locality Set Up"
   ]
  },
  {
   "cell_type": "code",
   "execution_count": null,
   "metadata": {},
   "outputs": [],
   "source": [
    "#Temporal Locality\n",
    "def tmp_loc(n):\n",
    "    for i in range(n):\n",
    "        l = random.randint(0,10)\n",
    "        n = random.randint(0,3)\n",
    "        p = random.randint(0,3)\n",
    "        q = random.randint(0,3)\n",
    "        if n == p:\n",
    "            test_data.append(l)\n",
    "            test_data.append(l)\n",
    "        if n == q:\n",
    "            test_data.append(l)\n",
    "            test_data.append(l)\n",
    "        if p == q:\n",
    "            test_data.append(l)\n",
    "        test_data.append(l)\n",
    "\n",
    "#Spatial Locality\n",
    "def spc_loc(n):\n",
    "    for i in range(n):\n",
    "        l = random.randint(0, 10)\n",
    "        n = random.randint(0,3)\n",
    "        p = random.randint(0,3)\n",
    "        q = random.randint(0,3)\n",
    "        if n == p:\n",
    "            test_data.append(l)\n",
    "            test_data.append(l+1)\n",
    "            test_data.append(l+2)\n",
    "            test_data.append(l+3)\n",
    "        if n == q:\n",
    "            test_data.append(l)\n",
    "            test_data.append(l)\n",
    "        else:\n",
    "            test_data.append(l)"
   ]
  },
  {
   "cell_type": "markdown",
   "metadata": {},
   "source": [
    "## Visualisation Set Up"
   ]
  },
  {
   "cell_type": "code",
   "execution_count": 607,
   "metadata": {},
   "outputs": [],
   "source": [
    "stratas = [\"Mem\", \"LRU\", \"Cyc\", \"Rand\"]\n",
    "\n",
    "#For Plotting Single Graph\n",
    "def newgen(implist):\n",
    "    fig = plt.subplots(figsize = (10,6))\n",
    "    implis = []\n",
    "    for entry in implist:\n",
    "        element = entry/implist[0]\n",
    "        implis.append(element)\n",
    "        \n",
    "    barWidth = 0.2\n",
    "    mem = [implis[0]]\n",
    "    lru = [implis[1]]\n",
    "    cyc = [implis[2]]\n",
    "    rand = [implis[3]] \n",
    "    br1 = np.arange(len(mem))\n",
    "    br2 = [x + barWidth for x in br1]\n",
    "    br3 = [x + barWidth for x in br2]\n",
    "    br4 = [x + barWidth for x in br3]\n",
    "\n",
    "    plt.bar(\" \", mem, color ='lightseagreen', width = barWidth, edgecolor = 'black' , label ='Memory')\n",
    "    plt.bar(br2, lru, color ='paleturquoise', width = barWidth, edgecolor = 'black' , label ='LRU')\n",
    "    plt.bar(br3, cyc, color ='mediumpurple', width = barWidth, edgecolor = 'black' , label ='Cyclic')\n",
    "    plt.bar(br4, rand, width = barWidth, color ='orange', edgecolor = 'black' , label ='Random')\n",
    "    plt.title(\"Experimental Results of Various Caching Techniques\")\n",
    "    plt.xlabel('Strategies', fontweight ='bold', fontsize = 15)\n",
    "    plt.ylabel('Mem Hit Count (Fraction)', fontweight ='bold', fontsize = 15)\n",
    "    plt.legend()\n",
    "    plt.show()\n",
    "\n",
    "#Generating List With Ratios\n",
    "def ratiogen(ls):\n",
    "    implis = []\n",
    "    for entry in ls:\n",
    "        element = entry/ls[0]\n",
    "        implis.append(element)\n",
    "    return implis\n",
    "\n",
    "\n",
    "#For plotting multiple graphs\n",
    "def testgen(implist):\n",
    "    fig = plt.subplots(figsize = (12,8))\n",
    "    mem = []\n",
    "    lru = []\n",
    "    cyc = []\n",
    "    rand = []\n",
    "    for entry in implist:\n",
    "        mem.append(entry[0])\n",
    "        lru.append(entry[1])\n",
    "        cyc.append(entry[2])\n",
    "        rand.append(entry[3])\n",
    "    \n",
    "    barWidth = 0.2\n",
    "    br1 = np.arange(len(mem))\n",
    "    br2 = [x + barWidth for x in br1]\n",
    "    br3 = [x + barWidth for x in br2]\n",
    "    br4 = [x + barWidth for x in br3]\n",
    "\n",
    "    plt.bar(br1, mem, color ='lightseagreen', width = barWidth, edgecolor = 'black' , label ='Memory')\n",
    "    plt.bar(br2, lru, color ='paleturquoise', width = barWidth, edgecolor = 'black' , label ='LRU')\n",
    "    plt.bar(br3, cyc, color ='mediumpurple', width = barWidth, edgecolor = 'black' , label ='Cyclic')\n",
    "    plt.bar(br4, rand, width = barWidth, color ='orange', edgecolor = 'black' , label ='Random')\n",
    "    plt.title(\"Experimental Results of Various Caching Techniques\")\n",
    "    plt.xlabel('Strategies', fontweight ='bold', fontsize = 15)\n",
    "    plt.ylabel('Mem Hit Count (Fraction)', fontweight ='bold', fontsize = 15)\n",
    "    if len(mem) == 3:\n",
    "        plt.xticks([r + barWidth for r in range(len(mem))],\n",
    "            ['Test-4', 'Test-5', 'Test-6'])\n",
    "    if len(mem) == 2:\n",
    "        plt.xticks([r + barWidth for r in range(len(mem))],\n",
    "            ['Test-8', 'Test-9'])\n",
    "    \n",
    "    plt.legend()\n",
    "    plt.show()"
   ]
  },
  {
   "cell_type": "markdown",
   "metadata": {},
   "source": [
    "# <u>First Experiment"
   ]
  },
  {
   "cell_type": "markdown",
   "metadata": {},
   "source": [
    "### Purpose\n",
    "\n",
    "To check performance of various cache eviction strategies against <b>small data set</b> and <b>small cache size</b>."
   ]
  },
  {
   "cell_type": "markdown",
   "metadata": {},
   "source": [
    "### Set Up"
   ]
  },
  {
   "cell_type": "code",
   "execution_count": 337,
   "metadata": {},
   "outputs": [],
   "source": [
    "mem = Memory(data)\n",
    "lru = LRUCache(data, size=4)\n",
    "cyc = CyclicCache(data, size=4)\n",
    "rand = RanCache(data, size=4)"
   ]
  },
  {
   "cell_type": "markdown",
   "metadata": {},
   "source": [
    "### Running the Experiment"
   ]
  },
  {
   "cell_type": "code",
   "execution_count": 235,
   "metadata": {},
   "outputs": [
    {
     "name": "stdout",
     "output_type": "stream",
     "text": [
      "Mem:  15 hits\n",
      "LRU:   7 hits\n",
      "Cyc:   8 hits\n",
      "Rand:   7 hits\n"
     ]
    }
   ],
   "source": [
    "lis1 = []\n",
    "test_data = []\n",
    "for i in range(15):\n",
    "    n = random.randint(0,5)\n",
    "    test_data.append(n)\n",
    "    \n",
    "for datum in test_data:\n",
    "    mem.lookup(datum)    \n",
    "print(\"Mem: {:3d} hits\".format(mem.get_memory_hit_count()))\n",
    "lis1.append(mem.get_memory_hit_count())\n",
    "\n",
    "for datum in test_data:\n",
    "    lru.lookup(datum)\n",
    "print(\"LRU: {:3d} hits\".format(lru.get_memory_hit_count()))\n",
    "lis1.append(lru.get_memory_hit_count())\n",
    "\n",
    "for datum in test_data:\n",
    "    cyc.lookup(datum)\n",
    "print(\"Cyc: {:3d} hits\".format(cyc.get_memory_hit_count()))\n",
    "lis1.append(cyc.get_memory_hit_count())\n",
    "\n",
    "for datum in test_data:\n",
    "    rand.lookup(datum)\n",
    "print(\"Rand: {:3d} hits\".format(rand.get_memory_hit_count()))\n",
    "lis1.append(rand.get_memory_hit_count())"
   ]
  },
  {
   "cell_type": "markdown",
   "metadata": {},
   "source": [
    "### Obsevations\n",
    "\n",
    "If our dataset is small and the cache size is also small, we observe:\n",
    "<ul>\n",
    "    <li><b>LRU</b> and <b>Random</b> strategies access memory the least number of times</li>\n",
    "    <li><b>Cyclic</b> strategy implementation accesses memory more number of times relatively as compared to other strategies </b></li>\n",
    "    <li>Having no cache implementation leads to the most number of memory accesses</li></ul>"
   ]
  },
  {
   "cell_type": "markdown",
   "metadata": {},
   "source": [
    "### Conclusion\n",
    "\n",
    "When the data size is small and the cache size is also small, there is <b>not a stark difference</b> between the cache hit rates of either of the cache eviction techniques generally.\n",
    "\n",
    "<br><hr><br>"
   ]
  },
  {
   "cell_type": "markdown",
   "metadata": {},
   "source": [
    "# <u>Second Experiment"
   ]
  },
  {
   "cell_type": "markdown",
   "metadata": {},
   "source": [
    "### Purpose\n",
    "\n",
    "To test the performance of diferent cache strategies against a <b>relatively large data set</b> but with a <b>small cache size</b>. "
   ]
  },
  {
   "cell_type": "markdown",
   "metadata": {},
   "source": [
    "### Set Up"
   ]
  },
  {
   "cell_type": "code",
   "execution_count": 230,
   "metadata": {},
   "outputs": [],
   "source": [
    "mem = Memory(data)\n",
    "lru = LRUCache(data, size=4)\n",
    "cyc = CyclicCache(data, size=4)\n",
    "rand = RanCache(data, size=4)"
   ]
  },
  {
   "cell_type": "markdown",
   "metadata": {},
   "source": [
    "### Running the Experiment"
   ]
  },
  {
   "cell_type": "code",
   "execution_count": 231,
   "metadata": {},
   "outputs": [
    {
     "name": "stdout",
     "output_type": "stream",
     "text": [
      "Mem: 3000 hits\n",
      "LRU: 1927 hits\n",
      "Cyc: 1925 hits\n",
      "Rand: 1929 hits\n"
     ]
    }
   ],
   "source": [
    "lis2 = []\n",
    "test_data = []\n",
    "for i in range(3000):\n",
    "    n = random.randint(0,10)\n",
    "    test_data.append(n)\n",
    "    \n",
    "for datum in test_data:\n",
    "    mem.lookup(datum)\n",
    "print(\"Mem: {:3d} hits\".format(mem.get_memory_hit_count()))\n",
    "lis2.append(mem.get_memory_hit_count())\n",
    "\n",
    "for datum in test_data:\n",
    "    lru.lookup(datum)\n",
    "print(\"LRU: {:3d} hits\".format(lru.get_memory_hit_count()))\n",
    "lis2.append(lru.get_memory_hit_count())\n",
    "\n",
    "for datum in test_data:\n",
    "    cyc.lookup(datum)\n",
    "print(\"Cyc: {:3d} hits\".format(cyc.get_memory_hit_count()))\n",
    "lis2.append(cyc.get_memory_hit_count())\n",
    "\n",
    "for datum in test_data:\n",
    "    rand.lookup(datum)\n",
    "print(\"Rand: {:3d} hits\".format(rand.get_memory_hit_count()))\n",
    "lis2.append(rand.get_memory_hit_count())"
   ]
  },
  {
   "cell_type": "markdown",
   "metadata": {},
   "source": [
    "### Observations\n",
    "\n",
    "If our dataset is relatively large and the cache size is small, we observe:\n",
    "<ul>\n",
    "    <li><b>LRU, Random</b> and <b>Cyclic</b> strategies access memory almost equal number of times</li>\n",
    "    <li>Having no cache implementation leads to the most number of memory accesses</li></ul>"
   ]
  },
  {
   "cell_type": "markdown",
   "metadata": {},
   "source": [
    "### Conclusion \n",
    "\n",
    "When the data size is relatively large but the cache size is small, there is once again <b>not a stark difference</b> between the cache hit rates of either of the cache eviction techniques. \n",
    "\n",
    "<br><hr><br>"
   ]
  },
  {
   "cell_type": "markdown",
   "metadata": {},
   "source": [
    "# <u>Third Experiment"
   ]
  },
  {
   "cell_type": "markdown",
   "metadata": {},
   "source": [
    "### Purpose"
   ]
  },
  {
   "cell_type": "markdown",
   "metadata": {},
   "source": [
    "To test the performance of diferent cache strategies against a <b>relatively large data set</b> but with a\n",
    "<b>larger cache size</b>. "
   ]
  },
  {
   "cell_type": "markdown",
   "metadata": {},
   "source": [
    "### Set Up"
   ]
  },
  {
   "cell_type": "code",
   "execution_count": 141,
   "metadata": {},
   "outputs": [],
   "source": [
    "mem = Memory(data)\n",
    "lru = LRUCache(data, size=60)\n",
    "cyc = CyclicCache(data, size=60)\n",
    "rand = RanCache(data, size=60)"
   ]
  },
  {
   "cell_type": "markdown",
   "metadata": {},
   "source": [
    "### Running the Experiment"
   ]
  },
  {
   "cell_type": "code",
   "execution_count": 142,
   "metadata": {},
   "outputs": [
    {
     "name": "stdout",
     "output_type": "stream",
     "text": [
      "Mem: 3000 hits\n",
      "LRU: 793 hits\n",
      "Cyc: 810 hits\n",
      "Rand: 831 hits\n"
     ]
    }
   ],
   "source": [
    "lis3 = []\n",
    "test_data = []\n",
    "for i in range(3000):\n",
    "    n = random.randint(0,80)\n",
    "    test_data.append(n)\n",
    "    \n",
    "for datum in test_data:\n",
    "    mem.lookup(datum)\n",
    "print(\"Mem: {:3d} hits\".format(mem.get_memory_hit_count()))\n",
    "lis3.append(mem.get_memory_hit_count())\n",
    "\n",
    "for datum in test_data:\n",
    "    lru.lookup(datum)\n",
    "print(\"LRU: {:3d} hits\".format(lru.get_memory_hit_count()))\n",
    "lis3.append(lru.get_memory_hit_count())\n",
    "\n",
    "for datum in test_data:\n",
    "    cyc.lookup(datum)\n",
    "print(\"Cyc: {:3d} hits\".format(cyc.get_memory_hit_count()))\n",
    "lis3.append(cyc.get_memory_hit_count())\n",
    "\n",
    "for datum in test_data:\n",
    "    rand.lookup(datum)\n",
    "print(\"Rand: {:3d} hits\".format(rand.get_memory_hit_count()))\n",
    "lis3.append(rand.get_memory_hit_count())"
   ]
  },
  {
   "cell_type": "markdown",
   "metadata": {},
   "source": [
    "### Observations\n",
    "\n",
    "If our dataset is relatively large and the cache size is also large, we observe:\n",
    "<ul>\n",
    "    <li><b>LRU</b> implementation has the best performance out of the three</li>\n",
    "    <li><b>Cyclic</b> implementation has the second best performance.</li>\n",
    "    <li><b>Random</b> implementation has the worst performance out of the three strategies </li>\n",
    "    <li>Having no cache implementation leads to the most number of memory accesses</li></ul>"
   ]
  },
  {
   "cell_type": "markdown",
   "metadata": {},
   "source": [
    "### Conclusion\n",
    "\n",
    "When the data size is relatively large and the cache size is also large relatively, <b>LRU</b> strategy turns out to be the <b>most optimal</b> while <b>Random</b> implementation is seen to be the <b>least optimal</b> out of the three. This could mean that as the <b>cache size increases,  Random implementation is less reliable as compared to LRU</b>. Obviously, it also depends on many more factors, some of which will be explored below\n",
    "<br><hr><br>"
   ]
  },
  {
   "cell_type": "markdown",
   "metadata": {},
   "source": [
    "# Visual Representation of First Three Tests"
   ]
  },
  {
   "cell_type": "code",
   "execution_count": 599,
   "metadata": {},
   "outputs": [
    {
     "data": {
      "image/png": "[encoded data removed]",
      "text/plain": [
       "<Figure size 864x576 with 1 Axes>"
      ]
     },
     "metadata": {
      "needs_background": "light"
     },
     "output_type": "display_data"
    }
   ],
   "source": [
    "list1 = ratiogen(lis1)\n",
    "list2 = ratiogen(lis2)\n",
    "list3 = ratiogen(lis3)\n",
    "genlist = [list1, list2, list3]\n",
    "\n",
    "testgen(genlist)"
   ]
  },
  {
   "cell_type": "markdown",
   "metadata": {},
   "source": [
    "<br><hr><br>"
   ]
  },
  {
   "cell_type": "markdown",
   "metadata": {},
   "source": [
    "# <u>Fourth Experiment"
   ]
  },
  {
   "cell_type": "markdown",
   "metadata": {},
   "source": [
    "### Purpose\n",
    "\n",
    "To test the performance of diferent cache strategies against a <b>relatively large data set</b> with a <b>largely varying data</b>. "
   ]
  },
  {
   "cell_type": "markdown",
   "metadata": {},
   "source": [
    "### Set Up"
   ]
  },
  {
   "cell_type": "code",
   "execution_count": 168,
   "metadata": {},
   "outputs": [],
   "source": [
    "mem = Memory(data)\n",
    "lru = LRUCache(data, size=15)\n",
    "cyc = CyclicCache(data, size=15)\n",
    "rand = RanCache(data, size=15)"
   ]
  },
  {
   "cell_type": "markdown",
   "metadata": {},
   "source": [
    "### Running Experiment"
   ]
  },
  {
   "cell_type": "code",
   "execution_count": 169,
   "metadata": {},
   "outputs": [
    {
     "name": "stdout",
     "output_type": "stream",
     "text": [
      "Mem: 3000 hits\n",
      "LRU: 2857 hits\n",
      "Cyc: 2856 hits\n",
      "Rand: 2842 hits\n"
     ]
    }
   ],
   "source": [
    "test_data = []\n",
    "lis4 = []\n",
    "for i in range(3000):\n",
    "    n = random.randint(0,300)\n",
    "    test_data.append(n)\n",
    "    \n",
    "for datum in test_data:\n",
    "    mem.lookup(datum)\n",
    "print(\"Mem: {:3d} hits\".format(mem.get_memory_hit_count()))\n",
    "lis4.append(mem.get_memory_hit_count())\n",
    "\n",
    "for datum in test_data:\n",
    "    lru.lookup(datum)\n",
    "print(\"LRU: {:3d} hits\".format(lru.get_memory_hit_count()))\n",
    "lis4.append(lru.get_memory_hit_count())\n",
    "\n",
    "for datum in test_data:\n",
    "    cyc.lookup(datum)\n",
    "print(\"Cyc: {:3d} hits\".format(cyc.get_memory_hit_count()))\n",
    "lis4.append(cyc.get_memory_hit_count())\n",
    "\n",
    "for datum in test_data:\n",
    "    rand.lookup(datum)\n",
    "print(\"Rand: {:3d} hits\".format(rand.get_memory_hit_count()))\n",
    "lis4.append(rand.get_memory_hit_count())"
   ]
  },
  {
   "cell_type": "markdown",
   "metadata": {},
   "source": [
    "### Observations\n",
    "\n",
    "\n",
    "If our dataset is relatively large and the data varies significantly, we observe:\n",
    "<ul>\n",
    "    <li>There's not a <b>significant difference</b> between the number of times memory has been accessed with or without cache implementation.</li>\n",
    "    <li><b>Random</b> implementation has the best performance among the cache strategies.</li>\n",
    "    <li>Having no cache implementation leads to the most number of memory accesses</li></ul>"
   ]
  },
  {
   "cell_type": "markdown",
   "metadata": {},
   "source": [
    "### Conclusion\n",
    "\n",
    "\n",
    "When the data size is relatively large and the data varies significantly enough, <b>a lookup results in memory access most of the times</b> regardless of the fact that the cache is implemented. Thus, in this case, any of the three strategies can outperform the other without us being able to draw any remarkable conclusion out of it.  \n",
    "<br><hr><br>"
   ]
  },
  {
   "cell_type": "markdown",
   "metadata": {},
   "source": [
    "# <u>Fifth Experiment"
   ]
  },
  {
   "cell_type": "markdown",
   "metadata": {},
   "source": [
    "### Purpose\n",
    "\n",
    "To test the performance of diferent cache strategies against a <b>relatively larger data set</b> but with a <b>smaller variation in data</b> and <b>same cache size</b> as previous test. "
   ]
  },
  {
   "cell_type": "markdown",
   "metadata": {},
   "source": [
    "### Set Up"
   ]
  },
  {
   "cell_type": "code",
   "execution_count": 145,
   "metadata": {},
   "outputs": [],
   "source": [
    "mem = Memory(data)\n",
    "lru = LRUCache(data, size=15)\n",
    "cyc = CyclicCache(data, size=15)\n",
    "rand = RanCache(data, size=15)"
   ]
  },
  {
   "cell_type": "markdown",
   "metadata": {},
   "source": [
    "### Running Experiment"
   ]
  },
  {
   "cell_type": "code",
   "execution_count": 146,
   "metadata": {},
   "outputs": [
    {
     "name": "stdout",
     "output_type": "stream",
     "text": [
      "Mem: 3000 hits\n",
      "LRU: 848 hits\n",
      "Cyc: 850 hits\n",
      "Rand: 871 hits\n"
     ]
    }
   ],
   "source": [
    "test_data = []\n",
    "lis5 = []\n",
    "for i in range(3000):\n",
    "    n = random.randint(0,20)\n",
    "    test_data.append(n)\n",
    "    \n",
    "for datum in test_data:\n",
    "    mem.lookup(datum)\n",
    "print(\"Mem: {:3d} hits\".format(mem.get_memory_hit_count()))\n",
    "lis5.append(mem.get_memory_hit_count())\n",
    "\n",
    "for datum in test_data:\n",
    "    lru.lookup(datum)\n",
    "print(\"LRU: {:3d} hits\".format(lru.get_memory_hit_count()))\n",
    "lis5.append(lru.get_memory_hit_count())\n",
    "\n",
    "for datum in test_data:\n",
    "    cyc.lookup(datum)\n",
    "print(\"Cyc: {:3d} hits\".format(cyc.get_memory_hit_count()))\n",
    "lis5.append(cyc.get_memory_hit_count())\n",
    "\n",
    "for datum in test_data:\n",
    "    rand.lookup(datum)\n",
    "print(\"Rand: {:3d} hits\".format(rand.get_memory_hit_count()))\n",
    "lis5.append(rand.get_memory_hit_count())"
   ]
  },
  {
   "cell_type": "markdown",
   "metadata": {},
   "source": [
    "### Observations\n",
    "\n",
    "\n",
    "If our dataset is relatively large and there is insignificant variation in data, we observe:\n",
    "<ul>\n",
    "    <li>There's a <b>noteworthy difference</b> between the number of times memory has been accessed with or without cache implementation.</li>\n",
    "    <li><b>LRU</b> implementation has the best performance among the cache strategies.</li>\n",
    "    <li>Having no cache implementation leads to the most number of memory accesses by a massive amount</li></ul>"
   ]
  },
  {
   "cell_type": "markdown",
   "metadata": {},
   "source": [
    "### Conclusion\n",
    "\n",
    "When the data size is relatively large and there isn't a significant variation in data, <b>a lookup results in cache hit most of the times</b> given the fact that cache has been implemented. It is also worth noting that <b>LRU outperforms Random</b> in the case when data variation isn't appreciable unlike the previous test.   \n",
    "<br><hr><br>"
   ]
  },
  {
   "cell_type": "markdown",
   "metadata": {},
   "source": [
    "# <u>Sixth Experiment"
   ]
  },
  {
   "cell_type": "markdown",
   "metadata": {},
   "source": [
    "### Purpose\n",
    "\n",
    "To test the performance of diferent cache strategies against a <b>data set of same size</b> and with a <b>similar variation in data</b> but a <b>smaller cache size</b> as compared to previous test."
   ]
  },
  {
   "cell_type": "markdown",
   "metadata": {},
   "source": [
    "### Set Up"
   ]
  },
  {
   "cell_type": "code",
   "execution_count": 151,
   "metadata": {},
   "outputs": [],
   "source": [
    "mem = Memory(data)\n",
    "lru = LRUCache(data, size=5)\n",
    "cyc = CyclicCache(data, size=5)\n",
    "rand = RanCache(data, size=5)"
   ]
  },
  {
   "cell_type": "markdown",
   "metadata": {},
   "source": [
    "### Running Experiment"
   ]
  },
  {
   "cell_type": "code",
   "execution_count": 152,
   "metadata": {},
   "outputs": [
    {
     "name": "stdout",
     "output_type": "stream",
     "text": [
      "Mem: 3000 hits\n",
      "LRU: 1659 hits\n",
      "Cyc: 1666 hits\n",
      "Rand: 1648 hits\n"
     ]
    }
   ],
   "source": [
    "lis6 = []\n",
    "test_data = []\n",
    "for i in range(3000):\n",
    "    n = random.randint(0,10)\n",
    "    test_data.append(n)\n",
    "    \n",
    "for datum in test_data:\n",
    "    mem.lookup(datum)\n",
    "print(\"Mem: {:3d} hits\".format(mem.get_memory_hit_count()))\n",
    "lis6.append(mem.get_memory_hit_count())\n",
    "\n",
    "for datum in test_data:\n",
    "    lru.lookup(datum)\n",
    "print(\"LRU: {:3d} hits\".format(lru.get_memory_hit_count()))\n",
    "lis6.append(lru.get_memory_hit_count())\n",
    "\n",
    "for datum in test_data:\n",
    "    cyc.lookup(datum)\n",
    "print(\"Cyc: {:3d} hits\".format(cyc.get_memory_hit_count()))\n",
    "lis6.append(cyc.get_memory_hit_count())\n",
    "\n",
    "for datum in test_data:\n",
    "    rand.lookup(datum)\n",
    "print(\"Rand: {:3d} hits\".format(rand.get_memory_hit_count()))\n",
    "lis6.append(rand.get_memory_hit_count())"
   ]
  },
  {
   "cell_type": "markdown",
   "metadata": {},
   "source": [
    "### Observations\n",
    "\n",
    "If our dataset is of same size and variation but smaller cache size, we observe:\n",
    "<ul>\n",
    "    <li>There's still a <b>noteworthy difference</b> between the number of times memory has been accessed with or without cache implementation.</li>\n",
    "    <li><b>Random</b> implementation has the best performance among the cache strategies.</li>\n",
    "    <li>Having no cache implementation leads to the most number of memory accesses.</li></ul>"
   ]
  },
  {
   "cell_type": "markdown",
   "metadata": {},
   "source": [
    "### Conclusion\n",
    "\n",
    "When the dataset is of same size and variation but cache size is comparatively smaller, <b>a lookup still results in cache hit most of the times as observed previously</b> given the fact that cache has been implemented. This time however, we notice <b>Random outperforms LRU</b> in the case when cache size is made smaller while other parameters remain the same. This shows us that when the cache size is relatively small, the three eviction strategies are interchangeable as there is no specific strategy that has a greater likelihood to outperform the other. However, when the cache size is relatively large enough, LRU is the most optimal startegy out of the three in most cases followed by Cyclic.  \n",
    "<br><hr><br>"
   ]
  },
  {
   "cell_type": "markdown",
   "metadata": {},
   "source": [
    "# Visual Representation of Test 4 to Test 6"
   ]
  },
  {
   "cell_type": "code",
   "execution_count": 602,
   "metadata": {},
   "outputs": [
    {
     "data": {
      "image/png": "[encoded data removed]",
      "text/plain": [
       "<Figure size 864x576 with 1 Axes>"
      ]
     },
     "metadata": {
      "needs_background": "light"
     },
     "output_type": "display_data"
    }
   ],
   "source": [
    "list4 = ratiogen(lis4)\n",
    "list5 = ratiogen(lis5)\n",
    "list6 = ratiogen(lis6)\n",
    "varylist = [list4, list5, list6]\n",
    "\n",
    "testgen(varylist)"
   ]
  },
  {
   "cell_type": "markdown",
   "metadata": {},
   "source": [
    "# <u>Seventh Experiment"
   ]
  },
  {
   "cell_type": "markdown",
   "metadata": {},
   "source": [
    "### Purpose\n",
    "\n",
    "To test the performance of diferent cache strategies against a <b>repeated linear sweep through memory slightly larger than the cache size</b> "
   ]
  },
  {
   "cell_type": "markdown",
   "metadata": {},
   "source": [
    "### Set Up "
   ]
  },
  {
   "cell_type": "code",
   "execution_count": 487,
   "metadata": {},
   "outputs": [],
   "source": [
    "mem = Memory(data)\n",
    "lru = LRUCache(data, size=6)\n",
    "cyc = CyclicCache(data, size=6)\n",
    "rand = RanCache(data, size=6)"
   ]
  },
  {
   "cell_type": "markdown",
   "metadata": {},
   "source": [
    "### Running Experiment"
   ]
  },
  {
   "cell_type": "code",
   "execution_count": 488,
   "metadata": {},
   "outputs": [
    {
     "name": "stdout",
     "output_type": "stream",
     "text": [
      "Mem: 10000 hits\n",
      "LRU: 10000 hits\n",
      "Cyc: 10000 hits\n",
      "Rand: 6962 hits\n"
     ]
    }
   ],
   "source": [
    "lis7 = []\n",
    "test_data = []    \n",
    "for i in range(1000):\n",
    "    for j in range(10):\n",
    "        test_data.append(j)\n",
    "\n",
    "for datum in test_data:\n",
    "    mem.lookup(datum)\n",
    "print(\"Mem: {:3d} hits\".format(mem.get_memory_hit_count()))\n",
    "lis7.append(mem.get_memory_hit_count())\n",
    "\n",
    "for datum in test_data:\n",
    "    lru.lookup(datum)\n",
    "print(\"LRU: {:3d} hits\".format(lru.get_memory_hit_count()))\n",
    "lis7.append(lru.get_memory_hit_count())\n",
    "\n",
    "for datum in test_data:\n",
    "    cyc.lookup(datum)\n",
    "print(\"Cyc: {:3d} hits\".format(cyc.get_memory_hit_count()))\n",
    "lis7.append(cyc.get_memory_hit_count())\n",
    "\n",
    "for datum in test_data:\n",
    "    rand.lookup(datum)\n",
    "print(\"Rand: {:3d} hits\".format(rand.get_memory_hit_count()))\n",
    "lis7.append(rand.get_memory_hit_count())"
   ]
  },
  {
   "cell_type": "markdown",
   "metadata": {},
   "source": [
    "### Visual Representation"
   ]
  },
  {
   "cell_type": "code",
   "execution_count": 489,
   "metadata": {},
   "outputs": [
    {
     "data": {
      "image/png": "[encoded data removed]",
      "text/plain": [
       "<Figure size 720x432 with 1 Axes>"
      ]
     },
     "metadata": {
      "needs_background": "light"
     },
     "output_type": "display_data"
    }
   ],
   "source": [
    "lis7 = [10000, 10000, 10000, 6962]\n",
    "\n",
    "list7 = ratiogen(lis7)\n",
    "newgen(list7)"
   ]
  },
  {
   "cell_type": "markdown",
   "metadata": {},
   "source": [
    "### Observations\n",
    "\n",
    "<ul>\n",
    "    <li><b>Memory</b>, <b>LRU</b> and <b>Cyclic</b> implementations have 100% Memory Hit Rate</li>\n",
    "    <li><b>Random</b> implementation has the <b>best</b> performance out of the three strategies by far </li></ul>"
   ]
  },
  {
   "cell_type": "markdown",
   "metadata": {},
   "source": [
    "### Conclusion\n",
    "\n",
    "Random gives better <b>\"worst-case performance\"</b>  than LRU and Cyclic Strategies as noticed when we perform a repeated linear sweep through memory slightly larger than the cache size. \n",
    "<br><hr><br>"
   ]
  },
  {
   "cell_type": "markdown",
   "metadata": {},
   "source": [
    "# <u>Eighth Experiment"
   ]
  },
  {
   "cell_type": "markdown",
   "metadata": {},
   "source": [
    "### Purpose\n",
    "\n",
    "To test the performance of diferent cache strategies against a <b>spatial locality</b> set up with a <b>small data size</b>. "
   ]
  },
  {
   "cell_type": "markdown",
   "metadata": {},
   "source": [
    "### Set Up"
   ]
  },
  {
   "cell_type": "code",
   "execution_count": 591,
   "metadata": {},
   "outputs": [],
   "source": [
    "mem = Memory(data)\n",
    "lru = LRUCache(data, size=6)\n",
    "cyc = CyclicCache(data, size=6)\n",
    "rand = RanCache(data, size=6)"
   ]
  },
  {
   "cell_type": "markdown",
   "metadata": {},
   "source": [
    "### Running the Experiment"
   ]
  },
  {
   "cell_type": "code",
   "execution_count": 590,
   "metadata": {},
   "outputs": [
    {
     "name": "stdout",
     "output_type": "stream",
     "text": [
      "Mem: 433 hits\n",
      "LRU: 176 hits\n",
      "Cyc: 190 hits\n",
      "Rand: 192 hits\n"
     ]
    }
   ],
   "source": [
    "lis8 = []\n",
    "test_data = []    \n",
    "spc_loc(200)\n",
    "\n",
    "for datum in test_data:\n",
    "    mem.lookup(datum)\n",
    "print(\"Mem: {:3d} hits\".format(mem.get_memory_hit_count()))\n",
    "lis8.append(mem.get_memory_hit_count())\n",
    "\n",
    "for datum in test_data:\n",
    "    lru.lookup(datum)\n",
    "print(\"LRU: {:3d} hits\".format(lru.get_memory_hit_count()))\n",
    "lis8.append(lru.get_memory_hit_count())\n",
    "\n",
    "for datum in test_data:\n",
    "    cyc.lookup(datum)\n",
    "print(\"Cyc: {:3d} hits\".format(cyc.get_memory_hit_count()))\n",
    "lis8.append(cyc.get_memory_hit_count())\n",
    "\n",
    "for datum in test_data:\n",
    "    rand.lookup(datum)\n",
    "print(\"Rand: {:3d} hits\".format(rand.get_memory_hit_count()))\n",
    "lis8.append(rand.get_memory_hit_count())"
   ]
  },
  {
   "cell_type": "markdown",
   "metadata": {},
   "source": [
    "### Observations\n",
    "\n",
    "If our dataset is small and follows the principles of spatial locality, we observe:\n",
    "<ul>\n",
    "    <li>There's a <b>noteworthy difference</b> between LRU and the other implementations.</li>\n",
    "    <li><b>LRU</b> implementation has the <b>highest cache hit rate</b> among the cache strategies.</li>\n",
    "    <li><b>Random</b> implementation has the <b>highest cache miss rate</b> among the cache strategies.</li>\n",
    "    <li>Having no cache implementation leads to the most number of memory accesses.</li></ul>"
   ]
  },
  {
   "cell_type": "markdown",
   "metadata": {},
   "source": [
    "### Conclusion\n",
    "\n",
    "From the above observations, we can conclude <b>LRU is more likely to outperform Cyclic and Random</b> implementations when <b>we use data elements within relatively close storage locations</b> and a <b>small data size</b>.\n",
    "\n",
    "<br><hr><br>"
   ]
  },
  {
   "cell_type": "markdown",
   "metadata": {},
   "source": [
    "# <u>Ninth Experiment"
   ]
  },
  {
   "cell_type": "markdown",
   "metadata": {},
   "source": [
    "### Purpose\n",
    "\n",
    "To test the performance of diferent cache strategies against a <b>spatial locality</b> set up with a <b>large data size</b>. "
   ]
  },
  {
   "cell_type": "markdown",
   "metadata": {},
   "source": [
    "### Set Up"
   ]
  },
  {
   "cell_type": "code",
   "execution_count": 587,
   "metadata": {},
   "outputs": [],
   "source": [
    "mem = Memory(data)\n",
    "lru = LRUCache(data, size=6)\n",
    "cyc = CyclicCache(data, size=6)\n",
    "rand = RanCache(data, size=6)"
   ]
  },
  {
   "cell_type": "markdown",
   "metadata": {},
   "source": [
    "### Running the Experiment"
   ]
  },
  {
   "cell_type": "code",
   "execution_count": 588,
   "metadata": {},
   "outputs": [
    {
     "name": "stdout",
     "output_type": "stream",
     "text": [
      "Mem: 22741 hits\n",
      "LRU: 9734 hits\n",
      "Cyc: 10364 hits\n",
      "Rand: 10393 hits\n"
     ]
    }
   ],
   "source": [
    "lis9 = []\n",
    "test_data = []    \n",
    "spc_loc(10000)\n",
    "\n",
    "for datum in test_data:\n",
    "    mem.lookup(datum)\n",
    "print(\"Mem: {:3d} hits\".format(mem.get_memory_hit_count()))\n",
    "lis9.append(mem.get_memory_hit_count())\n",
    "\n",
    "for datum in test_data:\n",
    "    lru.lookup(datum)\n",
    "print(\"LRU: {:3d} hits\".format(lru.get_memory_hit_count()))\n",
    "lis9.append(lru.get_memory_hit_count())\n",
    "\n",
    "for datum in test_data:\n",
    "    cyc.lookup(datum)\n",
    "print(\"Cyc: {:3d} hits\".format(cyc.get_memory_hit_count()))\n",
    "lis9.append(cyc.get_memory_hit_count())\n",
    "\n",
    "for datum in test_data:\n",
    "    rand.lookup(datum)\n",
    "print(\"Rand: {:3d} hits\".format(rand.get_memory_hit_count()))\n",
    "lis9.append(rand.get_memory_hit_count())"
   ]
  },
  {
   "cell_type": "markdown",
   "metadata": {},
   "source": [
    "### Observations\n",
    "\n",
    "If our dataset is large and follows the principles of spatial locality, we observe:\n",
    "<ul>\n",
    "    <li>There's a <b>noteworthy difference</b> between LRU and the other implementations.</li>\n",
    "    <li><b>LRU</b> implementation has the <b>highest cache hit rate</b> among the cache strategies.</li>\n",
    "    <li><b>Random</b> implementation has the <b>highest cache miss rate</b> among the cache strategies.</li>\n",
    "    <li>Having no cache implementation leads to the most number of memory accesses.</li></ul>"
   ]
  },
  {
   "cell_type": "markdown",
   "metadata": {},
   "source": [
    "### Conclusion\n",
    "\n",
    "From the above observations, we can conclude <b>LRU is more likely to outperform Cyclic and Random</b> implementations <b>consistently</b> when <b>we use data elements within proximity storage locations</b> irrespective of data size.\n",
    "\n",
    "<br><hr><br>"
   ]
  },
  {
   "cell_type": "markdown",
   "metadata": {},
   "source": [
    "# Visual Representation of Spatial Locality Tests"
   ]
  },
  {
   "cell_type": "code",
   "execution_count": 608,
   "metadata": {},
   "outputs": [
    {
     "data": {
      "image/png": "[encoded data removed]",
      "text/plain": [
       "<Figure size 864x576 with 1 Axes>"
      ]
     },
     "metadata": {
      "needs_background": "light"
     },
     "output_type": "display_data"
    }
   ],
   "source": [
    "lis9 = [22741, 9734, 10364, 10393]\n",
    "list8 = ratiogen(lis8)\n",
    "list9 = ratiogen(lis9)\n",
    "spatialist = [list8, list9]\n",
    "testgen(spatialist)"
   ]
  },
  {
   "cell_type": "markdown",
   "metadata": {},
   "source": [
    "<br><hr><br>"
   ]
  },
  {
   "cell_type": "markdown",
   "metadata": {},
   "source": [
    "# <u>Tenth Experiment"
   ]
  },
  {
   "cell_type": "markdown",
   "metadata": {},
   "source": [
    "### Purpose\n",
    "\n",
    "To test the performance of diferent cache strategies against a <b>temporal locality</b> set up with a <b>small data size</b>. "
   ]
  },
  {
   "cell_type": "markdown",
   "metadata": {},
   "source": [
    "### Set Up"
   ]
  },
  {
   "cell_type": "code",
   "execution_count": 655,
   "metadata": {},
   "outputs": [],
   "source": [
    "mem = Memory(data)\n",
    "lru = LRUCache(data, size=6)\n",
    "cyc = CyclicCache(data, size=6)\n",
    "rand = RanCache(data, size=6)"
   ]
  },
  {
   "cell_type": "markdown",
   "metadata": {},
   "source": [
    "### Running The Experiment"
   ]
  },
  {
   "cell_type": "code",
   "execution_count": 656,
   "metadata": {},
   "outputs": [
    {
     "name": "stdout",
     "output_type": "stream",
     "text": [
      "Mem: 392 hits\n",
      "LRU:  84 hits\n",
      "Cyc:  89 hits\n",
      "Rand:  98 hits\n"
     ]
    }
   ],
   "source": [
    "lis10 = []\n",
    "test_data = []    \n",
    "tmp_loc(200)\n",
    "\n",
    "for datum in test_data:\n",
    "    mem.lookup(datum)\n",
    "print(\"Mem: {:3d} hits\".format(mem.get_memory_hit_count()))\n",
    "lis10.append(mem.get_memory_hit_count())\n",
    "\n",
    "for datum in test_data:\n",
    "    lru.lookup(datum)\n",
    "print(\"LRU: {:3d} hits\".format(lru.get_memory_hit_count()))\n",
    "lis10.append(lru.get_memory_hit_count())\n",
    "\n",
    "for datum in test_data:\n",
    "    cyc.lookup(datum)\n",
    "print(\"Cyc: {:3d} hits\".format(cyc.get_memory_hit_count()))\n",
    "lis10.append(cyc.get_memory_hit_count())\n",
    "\n",
    "for datum in test_data:\n",
    "    rand.lookup(datum)\n",
    "print(\"Rand: {:3d} hits\".format(rand.get_memory_hit_count()))\n",
    "lis10.append(rand.get_memory_hit_count())"
   ]
  },
  {
   "cell_type": "markdown",
   "metadata": {},
   "source": [
    "### Observations\n",
    "\n",
    "If our dataset is small and follows the principles of temporal locality, we observe:\n",
    "<ul>\n",
    "    <li>There's a <b>substantial difference</b> between Random and the other implementations.</li>\n",
    "    <li><b>LRU</b> implementation has the <b>highest cache <u>hit</u> rate</b> among the cache strategies.</li>\n",
    "    <li><b>Random</b> implementation has the <b>highest cache <u>miss</u> rate</b> among the cache strategies.</li>\n",
    "    <li>Having no cache implementation leads to the most number of memory accesses.</li></ul>"
   ]
  },
  {
   "cell_type": "markdown",
   "metadata": {},
   "source": [
    "### Conclusion\n",
    "\n",
    "This test helps highlight the fact that LRU and Cyclic are more reliable than Random when there exists locality of reference and when the same data is repeatedly requested during the course of our program.\n",
    "\n",
    "<br><hr><br>"
   ]
  },
  {
   "cell_type": "markdown",
   "metadata": {},
   "source": [
    "# <u>Eleventh Experiment"
   ]
  },
  {
   "cell_type": "markdown",
   "metadata": {},
   "source": [
    "### Purpose\n",
    "\n",
    "To test the performance of diferent cache strategies against a <b>temporal locality</b> set up with a <b>large data size</b>."
   ]
  },
  {
   "cell_type": "markdown",
   "metadata": {},
   "source": [
    "### Set Up"
   ]
  },
  {
   "cell_type": "code",
   "execution_count": null,
   "metadata": {},
   "outputs": [],
   "source": [
    "#Set Up\n",
    "\n",
    "mem = Memory(data)\n",
    "lru = LRUCache(data, size=6)\n",
    "cyc = CyclicCache(data, size=6)\n",
    "rand = RanCache(data, size=6)"
   ]
  },
  {
   "cell_type": "markdown",
   "metadata": {},
   "source": [
    "### Running The Experiment"
   ]
  },
  {
   "cell_type": "code",
   "execution_count": 978,
   "metadata": {},
   "outputs": [
    {
     "name": "stdout",
     "output_type": "stream",
     "text": [
      "Mem: 11148 hits\n",
      "LRU: 3626 hits\n",
      "Cyc: 3650 hits\n",
      "Rand: 3678 hits\n"
     ]
    }
   ],
   "source": [
    "lis11 = []\n",
    "test_data = []\n",
    "tmp_loc(5000)\n",
    "\n",
    "for datum in test_data:\n",
    "    mem.lookup(datum)\n",
    "print(\"Mem: {:3d} hits\".format(mem.get_memory_hit_count()))\n",
    "lis11.append(mem.get_memory_hit_count())\n",
    "\n",
    "for datum in test_data:\n",
    "    lru.lookup(datum)\n",
    "print(\"LRU: {:3d} hits\".format(lru.get_memory_hit_count()))\n",
    "lis11.append(lru.get_memory_hit_count())\n",
    "\n",
    "for datum in test_data:\n",
    "    cyc.lookup(datum)\n",
    "print(\"Cyc: {:3d} hits\".format(cyc.get_memory_hit_count()))\n",
    "lis11.append(cyc.get_memory_hit_count())\n",
    "\n",
    "for datum in test_data:\n",
    "    rand.lookup(datum)\n",
    "print(\"Rand: {:3d} hits\".format(rand.get_memory_hit_count()))\n",
    "lis11.append(rand.get_memory_hit_count())"
   ]
  },
  {
   "cell_type": "markdown",
   "metadata": {},
   "source": [
    "### Observations\n",
    "\n",
    "If our dataset is large and follows the principles of temporal locality, we observe:\n",
    "<ul>\n",
    "    <li>There's a <b>slight difference</b> between Random and the other implementations.</li>\n",
    "    <li><b>LRU</b> implementation has the <b>highest cache <u>hit</u> rate</b> among the cache strategies.</li>\n",
    "    <li><b>Random</b> implementation has the <b>highest cache <u>miss</u> rate</b> among the cache strategies.</li>\n",
    "    <li>Having no cache implementation leads to the most number of memory accesses.</li></ul>"
   ]
  },
  {
   "cell_type": "markdown",
   "metadata": {},
   "source": [
    "### Conclusion\n",
    "\n",
    "This test helps highlight the fact that <b>LRU and Cyclic are more reliable than Random</b> irrespective of the data size when there exists locality of reference and when the same data is repeatedly requested during the course of our program. <b>However, this difference is not as significant as Spatial Locality</b>\n",
    "\n",
    "<br><hr><br>"
   ]
  },
  {
   "cell_type": "markdown",
   "metadata": {},
   "source": [
    "# Visual Representation of Temporal Locality Tests"
   ]
  },
  {
   "cell_type": "code",
   "execution_count": 979,
   "metadata": {},
   "outputs": [
    {
     "data": {
      "image/png": "[encoded data removed]",
      "text/plain": [
       "<Figure size 864x576 with 1 Axes>"
      ]
     },
     "metadata": {
      "needs_background": "light"
     },
     "output_type": "display_data"
    }
   ],
   "source": [
    "#lis11 = [19772, 4475, 4468, 4538]\n",
    "list10 = ratiogen(lis10)\n",
    "list11 = ratiogen(lis11)\n",
    "templocality = [list10, list11]\n",
    "testgen(templocality)"
   ]
  },
  {
   "cell_type": "markdown",
   "metadata": {},
   "source": [
    "<br><hr><br>"
   ]
  },
  {
   "cell_type": "markdown",
   "metadata": {},
   "source": [
    "# Conclusion\n",
    "\n",
    "From all the tests carried out above, we can conclude:\n",
    "\n",
    "<ul>\n",
    "    <li>As the <b>data variation in data set decreases</b>, <b>LRU</b> and <b>Cyclic</b> perform <u>significantly better</u> than <b>Random</b> in most of the cases.</li>\n",
    "    <li>As the <b>data variation in data set increases</b>, all the three strategies become <b>interchangeable</b> and the chances of<b> Random outperforming</b> the other cache eviction strategies <b>increases.</b></li>\n",
    "    <li>When the <b>access pattern is random</b> (recently used items are not more likely to be accessed than other item), <b>LRU</b> and <b>Cyclic</b> perform <b>worse</b> than <b>Random</b> when the <u>miss rates are high</u>, and <b>better</b> when the <u>miss rates are low</u>.</li>\n",
    "    <li>The choice of <b>LRU</b> is <b>more favourable</b> than Cyclic and Random when there exists <b>\"locality of reference\".</b></li>\n",
    "    <li>The outcomes of Spatial Locality and Temporal Locality tests have justified that <b>LRU</b> is indeed based on the assumption that \"what you've touched recently you're likely to touch again\".</li>\n",
    "     <li>The Locality tests also suggest that the difference between the three eviction strategies is <b>more evident</b> when applying <b>Spatial Locality</b> than <b>Temporal Locality</b>. </li></ul>\n",
    "     \n",
    "<i>Henceforth, we can conclude that <b>caching</b> is indeed an <b>efficient</b> methodology in order to <b>improve performance</b> and <b>speed</b> of our system as it enables us to access requested data considerably faster than a system without caching saving time, cost and computation. However, it is important to note that while <b>none of the Cache Eviction Strategies is perfect, <u>LRU</u></b> is certainly the <u>more reliable</u> and <u>more successful</u> one followed by <b>Cyclic</b> and then <b>Random</b> since real life applications of Caching are largely based on <b>Locality</b> in the modern era.</i>"
   ]
  },
  {
   "cell_type": "markdown",
   "metadata": {},
   "source": [
    "<br><hr><br>"
   ]
  },
  {
   "cell_type": "markdown",
   "metadata": {},
   "source": [
    "### Credits"
   ]
  },
  {
   "cell_type": "markdown",
   "metadata": {},
   "source": [
    "The following standard Python Libraries have been used throughought the duration of the lab : <br>\n",
    "<ol>\n",
    "    <li>Utilities</li>\n",
    "<li>Random</li>\n",
    "<li>Pandas</li>\n",
    "<li>Matplotlib.pyplot</li>\n",
    "    <li>Numpy</li>\n",
    "</ol>"
   ]
  },
  {
   "cell_type": "code",
   "execution_count": null,
   "metadata": {},
   "outputs": [],
   "source": []
  }
 ],
 "metadata": {
  "kernelspec": {
   "display_name": "Python 3 (ipykernel)",
   "language": "python",
   "name": "python3"
  },
  "language_info": {
   "codemirror_mode": {
    "name": "ipython",
    "version": 3
   },
   "file_extension": ".py",
   "mimetype": "text/x-python",
   "name": "python",
   "nbconvert_exporter": "python",
   "pygments_lexer": "ipython3",
   "version": "3.9.7"
  }
 },
 "nbformat": 4,
 "nbformat_minor": 2
}
